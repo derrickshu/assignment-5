{
 "cells": [
  {
   "cell_type": "markdown",
   "metadata": {},
   "source": [
    "# Assignment 5: Web Scraping and Big Data\n",
    "\n",
    "**NOTE: THIS ASSIGNMENT IS OPTIONAL**\n",
    "\n",
    "You must complete one out of homeworks #4, #5, and #6.\n",
    "\n",
    "**Due date: Thursday, 10/31 by the end of class**\n",
    "\n",
    "The notebook should be submitted to your own private repository on GitHub, which can be created using the following link:\n",
    "\n",
    "https://classroom.github.com/a/E8l4HicU\n",
    "\n",
    "### Part 1: Scraping Craigslist\n",
    "\n",
    "In this section, you will use BeautifulSoup to scraping data for hundreds of apartments from Philadelphia's Craigslist portal.\n",
    "\n",
    "### Part 2: Exploring a \"large\" dataset of your choice\n",
    "\n",
    "In this section, you'll use datashader to create an animated timelapse of a \"large\" dataset of your choice."
   ]
  },
  {
   "cell_type": "markdown",
   "metadata": {},
   "source": [
    "## Part 1: Scraping Craigslist\n",
    "\n",
    "In this part, we'll be extracting information on apartments from Craigslist search results. You'll be using BeautifulSoup to extract the relevant information from the HTML text. \n",
    "\n",
    "For reference on CSS selectors, please see the [notes from Week 6](https://github.com/MUSA-620-Spring-2019/week-6/blob/master/css-selectors.md)."
   ]
  },
  {
   "cell_type": "markdown",
   "metadata": {},
   "source": [
    "### Getting the HTML\n",
    "\n",
    "First we need to figure out how to submit a query to Craigslist. As with many websites, one way you can do this is simply by constructing the proper URL and sending it to Craigslist. Here's a sample URL that is returned after manually typing in a search to Craigslist:\n",
    "\n",
    " http://philadelphia.craigslist.org/search/apa?bedrooms=1&pets_cat=1&pets_dog=1&is_furnished=1\n",
    "\n",
    "There are two components to this URL:\n",
    "\n",
    "1. The base URL: `http://philadelphia.craigslist.org/search/apa`\n",
    "1. The user's search parameters: `?bedrooms=1&pets_cat=1&pets_dog=1&is_furnished=1`\n",
    "\n",
    "We will use `requests.get()` function to get the search page's response. For the search parameters, we will set `bedrooms=1`, which will make sure the number of bedrooms is listed. \n",
    "\n",
    "This can be done easiest by using the `params` keyword of the `get()` function. We didn't cover this in the lecture, so I've went ahead and done the necessary steps."
   ]
  },
  {
   "cell_type": "code",
   "execution_count": 2,
   "metadata": {},
   "outputs": [],
   "source": [
    "import requests"
   ]
  },
  {
   "cell_type": "code",
   "execution_count": 3,
   "metadata": {},
   "outputs": [],
   "source": [
    "url_base = 'http://philadelphia.craigslist.org/search/apa'\n",
    "params = {'bedrooms': 1}\n",
    "rsp = requests.get(url_base, params=params)"
   ]
  },
  {
   "cell_type": "code",
   "execution_count": 4,
   "metadata": {},
   "outputs": [
    {
     "name": "stdout",
     "output_type": "stream",
     "text": [
      "https://philadelphia.craigslist.org/search/apa?bedrooms=1\n"
     ]
    }
   ],
   "source": [
    "# Note that requests automatically created the right URL\n",
    "print(rsp.url)"
   ]
  },
  {
   "cell_type": "markdown",
   "metadata": {},
   "source": [
    "## 1.1 Parse the HTML\n",
    "\n",
    "- Use BeautifulSoup to parse the HTML response.\n",
    "- Use your browser's Web Inspector to identify the HTML element that holds the information on each apartment listing.\n",
    "- Use BeautifulSoup to extract these elements from the HTML.\n",
    "\n",
    "You should have a list of 120 elements, where each element is the listing for a specific apartment on the search page."
   ]
  },
  {
   "cell_type": "code",
   "execution_count": 8,
   "metadata": {},
   "outputs": [],
   "source": []
  },
  {
   "cell_type": "markdown",
   "metadata": {},
   "source": [
    "## 1.2 Find the relevant pieces of information\n",
    "\n",
    "We will now focus on the first element in the list of 120 apartments. Use the `prettify()` function to print out the HTML for this first element. \n",
    "\n",
    "From this HTML, identify the HTML elements that hold:\n",
    "\n",
    "- The apartment price\n",
    "- The number of bedrooms and square footage (this will be in a single element)\n",
    "- The apartment title\n",
    "- The datetime string of the posting, e.g., '2019-03-23 12:07'\n",
    "\n",
    "For the first apartment, print out each of these pieces of information, using BeautifulSoup to select the proper elements.\n",
    "\n",
    "**Hint:** Each of these can be extracted using the `text` attribute of the selected element object, except for the datetime string. This information is stored as an *attribute* of an HTML element and is not part of the displayed text on the webpage."
   ]
  },
  {
   "cell_type": "code",
   "execution_count": null,
   "metadata": {},
   "outputs": [],
   "source": []
  },
  {
   "cell_type": "markdown",
   "metadata": {},
   "source": [
    "## 1.3 Functions to format the results \n",
    "\n",
    "In this section, you'll create two functions that take the price and time results from the last section and format them properly.\n",
    "\n",
    "I've provided a function that will format the size and bedrooms string properly (no additional work needed), and started two functions to format the price and time. You should finish theses functions in this section."
   ]
  },
  {
   "cell_type": "code",
   "execution_count": 37,
   "metadata": {},
   "outputs": [],
   "source": [
    "import re"
   ]
  },
  {
   "cell_type": "code",
   "execution_count": 450,
   "metadata": {},
   "outputs": [],
   "source": [
    "def format_size_and_bedrooms(size_string):\n",
    "    \"\"\"\n",
    "    Extract size and number of bedrooms from the raw\n",
    "    text, using regular expressions\n",
    "    \"\"\"\n",
    "    split = re.findall(\"\\n(.*?) -\", size_string)\n",
    "    \n",
    "    # both size and bedrooms are listed\n",
    "    if len(split) == 2:\n",
    "        n_brs = split[0].strip().replace('br', '')\n",
    "        this_size = split[1].strip().replace('ft2', '')\n",
    "    # only bedrooms is listed\n",
    "    elif 'br' in split[0]:\n",
    "        n_brs = split[0].strip().replace('br', '')\n",
    "        this_size = np.nan\n",
    "    # only size is listed\n",
    "    elif 'ft2' in split[0]:\n",
    "        # It's the size\n",
    "        this_size = split[0].strip().replace('ft2', '')\n",
    "        n_brs = np.nan\n",
    "    \n",
    "    # return floats\n",
    "    return float(this_size), float(n_brs)"
   ]
  },
  {
   "cell_type": "code",
   "execution_count": 448,
   "metadata": {},
   "outputs": [],
   "source": [
    "def format_price(price_string):\n",
    "    # Format the price string and return a float\n",
    "    # \n",
    "    # This will involve using the string.strip() function to \n",
    "    # remove unwanted characters\n",
    "    return "
   ]
  },
  {
   "cell_type": "code",
   "execution_count": 449,
   "metadata": {},
   "outputs": [],
   "source": [
    "def format_time(date_string):\n",
    "    # Return a Datetime object from the datetime string\n",
    "    return  "
   ]
  },
  {
   "cell_type": "markdown",
   "metadata": {},
   "source": [
    "## 1.4: Putting it all together\n",
    "\n",
    "In this part, you'll complete the code block below using results from previous parts. The code will loop over 4 pages of search results and scrape data for about 500 apartments.\n",
    "\n",
    "In the code below, the outer for loop will loop over 4 pages of search results. The inner for loop will loop over the 120 apartments listed on each search page.\n",
    "\n",
    "After filling in the missing pieces and executing the code cell, you should have a Data Frame called `results` that holds the data for 480 apartment listings.\n",
    "\n",
    "#### Notes\n",
    "\n",
    "Be careful if you try to scrape more listings. Craigslist will temporarily ban your IP address (for a very short time) if you scrape too much at once. I've added a `sleep()` function to the for loop to wait 30 seconds between scraping requests.\n",
    "\n",
    "If the for loop gets stuck at the \"Processing page X...\" step for more than a minute or so, your IP address is probably banned temporarily, and you'll have to wait a few minutes before trying again."
   ]
  },
  {
   "cell_type": "code",
   "execution_count": 42,
   "metadata": {},
   "outputs": [],
   "source": [
    "from time import sleep"
   ]
  },
  {
   "cell_type": "code",
   "execution_count": null,
   "metadata": {},
   "outputs": [],
   "source": [
    "results = []\n",
    "\n",
    "# search in batches of 120 for 5 pages\n",
    "# NOTE: you will get temporarily banned if running more than ~5 pages or so\n",
    "# the API limits are more leninient during off-peak times, and you can try\n",
    "# experimenting with more pages\n",
    "max_pages = 5\n",
    "results_per_page = 120\n",
    "search_indices = np.arange(0, max_pages*results_per_page, results_per_page) \n",
    "url = 'http://philadelphia.craigslist.org/search/apa'\n",
    "\n",
    "# loop over each page of search results\n",
    "for i, s in enumerate(search_indices):\n",
    "    print('Processing page %s...' % (i+1) )\n",
    "    \n",
    "    # get the response\n",
    "    resp = requests.get(url, params={'bedrooms': 1, 's': s})\n",
    "    \n",
    "    # YOUR CODE: get the list of all aparements\n",
    "    # This is the same code from Part 1.1\n",
    "    # It should be a list of 120 apartments\n",
    "    apts = \n",
    "    print(\"number of apartments = \", len(apts))\n",
    "\n",
    "    # loop over each apartment in the list\n",
    "    page_results = []\n",
    "    for apt in apts:\n",
    "        \n",
    "        # YOUR CODE: the bedrooms/size string\n",
    "        # sizes_brs = \n",
    "\n",
    "        # YOUR CODE: the title string\n",
    "        # title = \n",
    "        \n",
    "        # YOUR CODE: the price string\n",
    "        # price = \n",
    "\n",
    "        # YOUR CODE: the time string\n",
    "        # dtime = \n",
    "        \n",
    "        # format using functions from Part 1.3\n",
    "        sizes, brs = format_size_and_bedrooms(sizes_brs)\n",
    "        price = format_price(price)\n",
    "        dtime = format_time(dtime)\n",
    "        \n",
    "        # save the result\n",
    "        page_results.append([dtime, price, sizes, brs, title])\n",
    "        \n",
    "    \n",
    "    # create a dataframe and save\n",
    "    col_names = ['time', 'price', 'size', 'brs', 'title']\n",
    "    df = pd.DataFrame(page_results, columns=col_names)\n",
    "    results.append(df)\n",
    "    \n",
    "    print(\"sleeping for 30 seconds between calls\")\n",
    "    sleep(30)\n",
    "    \n",
    "# Finally, concatenate all the results\n",
    "results = pd.concat(results, axis=0)"
   ]
  },
  {
   "cell_type": "code",
   "execution_count": null,
   "metadata": {},
   "outputs": [],
   "source": []
  },
  {
   "cell_type": "markdown",
   "metadata": {},
   "source": [
    "## 1.5: Plotting the distribution of prices\n",
    "\n",
    "Use matplotlib's `hist()` function to make two histograms for:\n",
    "\n",
    "- Apartment prices\n",
    "- Apartment prices per square foot (price / size)\n",
    "\n",
    "Make sure to add labels to the respective axes and a title describing the plot."
   ]
  },
  {
   "cell_type": "markdown",
   "metadata": {},
   "source": [
    "### Side note: rental prices per sq. ft. from Craigslist\n",
    "\n",
    "The histogram of price per sq ft should be centered around ~1.5. Here is a plot of how Philadelphia's rents compare to the other most populous cities:\n",
    "\n",
    "<img src=\"imgs/rental_prices_psf.png\" width=600/>\n",
    "\n",
    "[Source](https://arxiv.org/pdf/1605.05397.pdf)"
   ]
  },
  {
   "cell_type": "code",
   "execution_count": null,
   "metadata": {},
   "outputs": [],
   "source": []
  },
  {
   "cell_type": "code",
   "execution_count": null,
   "metadata": {},
   "outputs": [],
   "source": []
  },
  {
   "cell_type": "markdown",
   "metadata": {},
   "source": [
    "## 1.6 Comparing prices for different sizes \n",
    "\n",
    "Use `altair` to explore the relationship between price, size, and number of bedrooms. Make an interactive scatter plot of price (x-axis) vs. size (y-axis), with the points colored by the number of bedrooms. \n",
    "\n",
    "Make sure the plot is interactive (zoom-able and pan-able) and add a tooltip with all of the columns in our scraped data frame.\n",
    "\n",
    "With this sort of plot, you can quickly see the outlier apartments in terms of size and price."
   ]
  },
  {
   "cell_type": "code",
   "execution_count": 78,
   "metadata": {},
   "outputs": [
    {
     "data": {
      "text/plain": [
       "RendererRegistry.enable('notebook')"
      ]
     },
     "execution_count": 78,
     "metadata": {},
     "output_type": "execute_result"
    }
   ],
   "source": [
    "import altair as alt\n",
    "alt.renderers.enable('notebook')"
   ]
  },
  {
   "cell_type": "code",
   "execution_count": null,
   "metadata": {},
   "outputs": [],
   "source": []
  },
  {
   "cell_type": "markdown",
   "metadata": {},
   "source": [
    "## Part 2: Making an animated map with Datashader\n",
    "\n",
    "In this part, you will load a \"large\" data set of your choice and make an animated map of the data using datashader. \n",
    "\n",
    "There are several good options available from Open Data Philly, but you are welcome to choose a different source, as long it meets the requirements below.\n",
    "\n",
    "#### Deliverable\n",
    "Your final result should be a GIF animating changes in the data set in time. This GIF should be submitted to your repository, and the code used to produce the GIF should be in the notebook.\n",
    "\n",
    "#### Notes\n",
    "- For best results with datashader, the dataset should be at least 500,000 rows in size. If you are having difficulty finding a data set large enough, please email me.\n",
    "- The data must have a date time column, so that you can animate the data in time.\n",
    "- You can use either dask or pandas to load the data. If you're data set is approaching the size of your machine's memory, you will want to use dask.\n",
    "- Recommendations from Open Data Philly include: \n",
    "    - [311 Requests](https://www.opendataphilly.org/dataset/311-service-and-information-requests)\n",
    "    - [Crime Incidents](https://www.opendataphilly.org/dataset/crime-incidents)\n",
    "    - [L&I Code Violations](https://www.opendataphilly.org/dataset/licenses-and-inspections-violations)\n",
    "    - [Parking Violations](https://www.opendataphilly.org/dataset/parking-violations)\n",
    "    - [Real Estate Transfers](https://www.opendataphilly.org/dataset/real-estate-transfers)\n",
    "- You can animate the data by the hour or by the year, e.g., parking violations by hour of day, or parking violations by year.\n",
    "\n",
    "**Remember: when using datashader your data's coordinates should be in Web Mercator (EPSG coe 3857).**\n",
    "\n",
    "**Examples:** I've includes several example GIFS in the assignment repository. Note that you are not required to add the city limits boundary to your GIFs, as I have done in the examples."
   ]
  },
  {
   "cell_type": "code",
   "execution_count": null,
   "metadata": {},
   "outputs": [],
   "source": []
  }
 ],
 "metadata": {
  "kernelspec": {
   "display_name": "Python 3",
   "language": "python",
   "name": "python3"
  },
  "language_info": {
   "codemirror_mode": {
    "name": "ipython",
    "version": 3
   },
   "file_extension": ".py",
   "mimetype": "text/x-python",
   "name": "python",
   "nbconvert_exporter": "python",
   "pygments_lexer": "ipython3",
   "version": "3.7.3"
  }
 },
 "nbformat": 4,
 "nbformat_minor": 2
}
